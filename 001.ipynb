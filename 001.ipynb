{
 "cells": [
  {
   "cell_type": "code",
   "execution_count": 13,
   "id": "f014cbc7-7ed6-4adb-a4aa-981b3816f8c5",
   "metadata": {},
   "outputs": [],
   "source": [
    "import os\n",
    "import numpy as np\n",
    "from tensorflow.keras.models import Sequential\n",
    "from tensorflow.keras.layers import Dense, Flatten\n",
    "from tensorflow.keras.preprocessing.image import ImageDataGenerator\n",
    "from history_plot import plot_accuracy, plot_loss\n",
    "from matplotlib import pyplot as plt"
   ]
  },
  {
   "cell_type": "code",
   "execution_count": 2,
   "id": "513a48f6-3c90-425c-a114-9925dd6f796b",
   "metadata": {},
   "outputs": [],
   "source": [
    "BASE_DIR = os.getcwd()\n",
    "LARGE_DATASET_DIR = os.path.join(BASE_DIR, 'large_dataset')\n",
    "TRAIN_DIR = os.path.join(LARGE_DATASET_DIR, 'train')\n",
    "TEST_DIR = os.path.join(LARGE_DATASET_DIR, 'test')"
   ]
  },
  {
   "cell_type": "code",
   "execution_count": 3,
   "id": "a3c1f850-3e44-4986-86e3-ed9025531307",
   "metadata": {},
   "outputs": [
    {
     "name": "stdout",
     "output_type": "stream",
     "text": [
      "Found 5922 images belonging to 2 classes.\n"
     ]
    }
   ],
   "source": [
    "train_batch = ImageDataGenerator(rescale=1/255, validation_split=0.2).flow_from_directory(\n",
    "    TRAIN_DIR, \n",
    "    color_mode='grayscale', \n",
    "    batch_size=32,\n",
    "    target_size=(256, 256),\n",
    "    subset='training'\n",
    ")"
   ]
  },
  {
   "cell_type": "code",
   "execution_count": 4,
   "id": "f993fb43-93ac-40a1-93b6-defe81b7bdbc",
   "metadata": {},
   "outputs": [
    {
     "name": "stdout",
     "output_type": "stream",
     "text": [
      "Found 1480 images belonging to 2 classes.\n"
     ]
    }
   ],
   "source": [
    "validation_batch = ImageDataGenerator(rescale=1/255, validation_split=0.2).flow_from_directory(\n",
    "    TRAIN_DIR, \n",
    "    color_mode='grayscale', \n",
    "    batch_size=32,\n",
    "    target_size=(256, 256),\n",
    "    subset='validation'\n",
    ")"
   ]
  },
  {
   "cell_type": "code",
   "execution_count": 5,
   "id": "23acb776-8c1a-4193-82e9-3a4b61c05c44",
   "metadata": {},
   "outputs": [
    {
     "name": "stdout",
     "output_type": "stream",
     "text": [
      "Found 602 images belonging to 2 classes.\n"
     ]
    }
   ],
   "source": [
    "test_batch = ImageDataGenerator(rescale=1/255).flow_from_directory(\n",
    "    TEST_DIR, \n",
    "    color_mode='grayscale', \n",
    "    batch_size=32,\n",
    "    target_size=(256, 256),\n",
    ")"
   ]
  },
  {
   "cell_type": "code",
   "execution_count": 6,
   "id": "a093cc83-4d7c-4e33-b4be-d9051c5c20ae",
   "metadata": {},
   "outputs": [],
   "source": [
    "model = Sequential()\n",
    "model.add(Flatten())\n",
    "model.add(Dense(32, activation='relu'))\n",
    "model.add(Dense(64, activation='relu'))\n",
    "model.add(Dense(64, activation='relu'))\n",
    "model.add(Dense(128, activation='relu'))\n",
    "model.add(Dense(2, activation='softmax'))"
   ]
  },
  {
   "cell_type": "code",
   "execution_count": 8,
   "id": "81a883ef-aa49-4da6-803c-ae8ab67bb1ee",
   "metadata": {},
   "outputs": [],
   "source": [
    "model.compile(loss='categorical_crossentropy', optimizer='adam', metrics=['accuracy'])"
   ]
  },
  {
   "cell_type": "code",
   "execution_count": 10,
   "id": "651d90ac-e22c-43cd-a642-01efd66660e6",
   "metadata": {},
   "outputs": [
    {
     "name": "stdout",
     "output_type": "stream",
     "text": [
      "Epoch 1/15\n",
      "186/186 [==============================] - 209s 1s/step - loss: 0.2325 - accuracy: 0.9132 - val_loss: 0.0616 - val_accuracy: 0.9865\n",
      "Epoch 2/15\n",
      "186/186 [==============================] - 32s 173ms/step - loss: 0.0142 - accuracy: 0.9970 - val_loss: 0.0209 - val_accuracy: 0.9926\n",
      "Epoch 3/15\n",
      "186/186 [==============================] - 34s 181ms/step - loss: 0.0126 - accuracy: 0.9953 - val_loss: 0.0091 - val_accuracy: 0.9953\n",
      "Epoch 4/15\n",
      "186/186 [==============================] - 34s 181ms/step - loss: 1.5470e-04 - accuracy: 1.0000 - val_loss: 0.0257 - val_accuracy: 0.9892\n",
      "Epoch 5/15\n",
      "186/186 [==============================] - 34s 182ms/step - loss: 6.3683e-05 - accuracy: 1.0000 - val_loss: 0.0204 - val_accuracy: 0.9926\n",
      "Epoch 6/15\n",
      "186/186 [==============================] - 34s 185ms/step - loss: 3.8740e-05 - accuracy: 1.0000 - val_loss: 0.0195 - val_accuracy: 0.9939\n",
      "Epoch 7/15\n",
      "186/186 [==============================] - 34s 183ms/step - loss: 2.6401e-05 - accuracy: 1.0000 - val_loss: 0.0282 - val_accuracy: 0.9892\n",
      "Epoch 8/15\n",
      "186/186 [==============================] - 32s 175ms/step - loss: 1.8834e-05 - accuracy: 1.0000 - val_loss: 0.0286 - val_accuracy: 0.9892\n",
      "Epoch 9/15\n",
      "186/186 [==============================] - 32s 174ms/step - loss: 1.4483e-05 - accuracy: 1.0000 - val_loss: 0.0259 - val_accuracy: 0.9905\n",
      "Epoch 10/15\n",
      "186/186 [==============================] - 33s 180ms/step - loss: 1.0639e-05 - accuracy: 1.0000 - val_loss: 0.0241 - val_accuracy: 0.9905\n",
      "Epoch 11/15\n",
      "186/186 [==============================] - 33s 177ms/step - loss: 8.8084e-06 - accuracy: 1.0000 - val_loss: 0.0288 - val_accuracy: 0.9892\n",
      "Epoch 12/15\n",
      "186/186 [==============================] - 33s 177ms/step - loss: 6.9220e-06 - accuracy: 1.0000 - val_loss: 0.0235 - val_accuracy: 0.9912\n",
      "Epoch 13/15\n",
      "186/186 [==============================] - 33s 179ms/step - loss: 5.5862e-06 - accuracy: 1.0000 - val_loss: 0.0317 - val_accuracy: 0.9885\n",
      "Epoch 14/15\n",
      "186/186 [==============================] - 33s 175ms/step - loss: 4.6402e-06 - accuracy: 1.0000 - val_loss: 0.0325 - val_accuracy: 0.9885\n",
      "Epoch 15/15\n",
      "186/186 [==============================] - 34s 184ms/step - loss: 3.9425e-06 - accuracy: 1.0000 - val_loss: 0.0313 - val_accuracy: 0.9892\n"
     ]
    }
   ],
   "source": [
    "history = model.fit(train_batch, validation_data=validation_batch, batch_size=32, epochs=15)"
   ]
  },
  {
   "cell_type": "code",
   "execution_count": 11,
   "id": "6cc56cbf-795b-485f-9d95-5dff889f2a82",
   "metadata": {},
   "outputs": [
    {
     "name": "stdout",
     "output_type": "stream",
     "text": [
      "Model: \"sequential\"\n",
      "_________________________________________________________________\n",
      "Layer (type)                 Output Shape              Param #   \n",
      "=================================================================\n",
      "flatten (Flatten)            (None, None)              0         \n",
      "_________________________________________________________________\n",
      "dense (Dense)                (None, 32)                2097184   \n",
      "_________________________________________________________________\n",
      "dense_1 (Dense)              (None, 64)                2112      \n",
      "_________________________________________________________________\n",
      "dense_2 (Dense)              (None, 64)                4160      \n",
      "_________________________________________________________________\n",
      "dense_3 (Dense)              (None, 128)               8320      \n",
      "_________________________________________________________________\n",
      "dense_4 (Dense)              (None, 2)                 258       \n",
      "=================================================================\n",
      "Total params: 2,112,034\n",
      "Trainable params: 2,112,034\n",
      "Non-trainable params: 0\n",
      "_________________________________________________________________\n"
     ]
    }
   ],
   "source": [
    "model.summary()"
   ]
  },
  {
   "cell_type": "code",
   "execution_count": 14,
   "id": "d9552445-18b1-4de4-925d-8047951fa9f5",
   "metadata": {},
   "outputs": [
    {
     "data": {
      "image/png": "[encoded data removed]",
      "text/plain": [
       "<Figure size 432x288 with 1 Axes>"
      ]
     },
     "metadata": {
      "needs_background": "light"
     },
     "output_type": "display_data"
    }
   ],
   "source": [
    "plot_accuracy(history)"
   ]
  },
  {
   "cell_type": "code",
   "execution_count": 15,
   "id": "e5252f27-b510-4871-bafc-3c873a901857",
   "metadata": {},
   "outputs": [
    {
     "data": {
      "image/png": "[encoded data removed]",
      "text/plain": [
       "<Figure size 432x288 with 1 Axes>"
      ]
     },
     "metadata": {
      "needs_background": "light"
     },
     "output_type": "display_data"
    }
   ],
   "source": [
    "plot_loss(history)"
   ]
  },
  {
   "cell_type": "code",
   "execution_count": 16,
   "id": "9cf51513-2289-438e-a96e-2a57a0ebcc10",
   "metadata": {},
   "outputs": [
    {
     "name": "stdout",
     "output_type": "stream",
     "text": [
      "19/19 [==============================] - 11s 597ms/step - loss: 0.0864 - accuracy: 0.9950\n"
     ]
    }
   ],
   "source": [
    "predicted = model.evaluate(test_batch)"
   ]
  },
  {
   "cell_type": "code",
   "execution_count": 17,
   "id": "695060ea-7f78-46ed-b51a-90e3c625857c",
   "metadata": {},
   "outputs": [
    {
     "data": {
      "text/plain": [
       "[0.08642752468585968, 0.9950166344642639]"
      ]
     },
     "execution_count": 17,
     "metadata": {},
     "output_type": "execute_result"
    }
   ],
   "source": [
    "predicted"
   ]
  },
  {
   "cell_type": "code",
   "execution_count": 18,
   "id": "6be3f3a7-decd-4097-8319-9166c3d33234",
   "metadata": {},
   "outputs": [],
   "source": [
    "model.save('001.h5')"
   ]
  },
  {
   "cell_type": "code",
   "execution_count": null,
   "id": "7d19b5f2-025b-4ef3-a43e-12860c7ae524",
   "metadata": {},
   "outputs": [],
   "source": []
  }
 ],
 "metadata": {
  "kernelspec": {
   "display_name": "Python 3 (ipykernel)",
   "language": "python",
   "name": "python3"
  },
  "language_info": {
   "codemirror_mode": {
    "name": "ipython",
    "version": 3
   },
   "file_extension": ".py",
   "mimetype": "text/x-python",
   "name": "python",
   "nbconvert_exporter": "python",
   "pygments_lexer": "ipython3",
   "version": "3.9.7"
  }
 },
 "nbformat": 4,
 "nbformat_minor": 5
}
