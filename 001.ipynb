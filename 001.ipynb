{
 "cells": [
  {
   "cell_type": "code",
   "execution_count": 4,
   "id": "f014cbc7-7ed6-4adb-a4aa-981b3816f8c5",
   "metadata": {},
   "outputs": [],
   "source": [
    "import os\n",
    "import numpy as np\n",
    "from tensorflow.keras.models import Sequential\n",
    "from tensorflow.keras.layers import Dense, Flatten\n",
    "from tensorflow.keras.preprocessing.image import ImageDataGenerator"
   ]
  },
  {
   "cell_type": "code",
   "execution_count": 5,
   "id": "513a48f6-3c90-425c-a114-9925dd6f796b",
   "metadata": {},
   "outputs": [],
   "source": [
    "BASE_DIR = os.getcwd()\n",
    "LARGE_DATASET_DIR = os.path.join(BASE_DIR, 'large_dataset')\n",
    "TRAIN_DIR = os.path.join(LARGE_DATASET_DIR, 'train')\n",
    "TEST_DIR = os.path.join(LARGE_DATASET_DIR, 'test')"
   ]
  },
  {
   "cell_type": "code",
   "execution_count": 10,
   "id": "a3c1f850-3e44-4986-86e3-ed9025531307",
   "metadata": {},
   "outputs": [
    {
     "name": "stdout",
     "output_type": "stream",
     "text": [
      "Found 5920 images belonging to 2 classes.\n"
     ]
    }
   ],
   "source": [
    "train_batch = ImageDataGenerator(rescale=1/255, validation_split=0.2).flow_from_directory(\n",
    "    TRAIN_DIR, \n",
    "    color_mode='grayscale', \n",
    "    batch_size=32,\n",
    "    target_size=(256, 256),\n",
    "    subset='training'\n",
    ")"
   ]
  },
  {
   "cell_type": "code",
   "execution_count": 12,
   "id": "f993fb43-93ac-40a1-93b6-defe81b7bdbc",
   "metadata": {},
   "outputs": [
    {
     "name": "stdout",
     "output_type": "stream",
     "text": [
      "Found 1480 images belonging to 2 classes.\n"
     ]
    }
   ],
   "source": [
    "validation_batch = ImageDataGenerator(rescale=1/255, validation_split=0.2).flow_from_directory(\n",
    "    TRAIN_DIR, \n",
    "    color_mode='grayscale', \n",
    "    batch_size=32,\n",
    "    target_size=(256, 256),\n",
    "    subset='validation'\n",
    ")"
   ]
  },
  {
   "cell_type": "code",
   "execution_count": 13,
   "id": "23acb776-8c1a-4193-82e9-3a4b61c05c44",
   "metadata": {},
   "outputs": [
    {
     "name": "stdout",
     "output_type": "stream",
     "text": [
      "Found 602 images belonging to 2 classes.\n"
     ]
    }
   ],
   "source": [
    "test_batch = ImageDataGenerator(rescale=1/255).flow_from_directory(\n",
    "    TEST_DIR, \n",
    "    color_mode='grayscale', \n",
    "    batch_size=32,\n",
    "    target_size=(256, 256),\n",
    ")"
   ]
  },
  {
   "cell_type": "code",
   "execution_count": 14,
   "id": "a093cc83-4d7c-4e33-b4be-d9051c5c20ae",
   "metadata": {},
   "outputs": [],
   "source": [
    "model = Sequential()\n",
    "model.add(Flatten())\n",
    "model.add(Dense(32, activation='relu'))\n",
    "model.add(Dense(64, activation='relu'))\n",
    "model.add(Dense(64, activation='relu'))\n",
    "model.add(Dense(128, activation='relu'))\n",
    "model.add(Dense(2, activation='softmax'))"
   ]
  },
  {
   "cell_type": "code",
   "execution_count": 15,
   "id": "81a883ef-aa49-4da6-803c-ae8ab67bb1ee",
   "metadata": {},
   "outputs": [],
   "source": [
    "model.compile(loss='categorical_crossentropy', optimizer='adam', metrics=['accuracy'])"
   ]
  },
  {
   "cell_type": "code",
   "execution_count": 18,
   "id": "651d90ac-e22c-43cd-a642-01efd66660e6",
   "metadata": {},
   "outputs": [
    {
     "name": "stdout",
     "output_type": "stream",
     "text": [
      "Epoch 1/15\n",
      "185/185 [==============================] - 36s 195ms/step - loss: 0.0019 - accuracy: 0.9997 - val_loss: 0.0360 - val_accuracy: 0.9845\n",
      "Epoch 2/15\n",
      "185/185 [==============================] - 37s 200ms/step - loss: 1.9438e-04 - accuracy: 1.0000 - val_loss: 0.0284 - val_accuracy: 0.9865\n",
      "Epoch 3/15\n",
      "185/185 [==============================] - 37s 202ms/step - loss: 1.0301e-04 - accuracy: 1.0000 - val_loss: 0.0262 - val_accuracy: 0.9858\n",
      "Epoch 4/15\n",
      "185/185 [==============================] - 40s 217ms/step - loss: 6.7529e-05 - accuracy: 1.0000 - val_loss: 0.0274 - val_accuracy: 0.9858\n",
      "Epoch 5/15\n",
      "185/185 [==============================] - 39s 211ms/step - loss: 4.8849e-05 - accuracy: 1.0000 - val_loss: 0.0316 - val_accuracy: 0.9851\n",
      "Epoch 6/15\n",
      "185/185 [==============================] - 38s 206ms/step - loss: 3.4099e-05 - accuracy: 1.0000 - val_loss: 0.0249 - val_accuracy: 0.9865\n",
      "Epoch 7/15\n",
      "185/185 [==============================] - 36s 196ms/step - loss: 2.3847e-05 - accuracy: 1.0000 - val_loss: 0.0322 - val_accuracy: 0.9851\n",
      "Epoch 8/15\n",
      "185/185 [==============================] - 37s 198ms/step - loss: 1.5897e-05 - accuracy: 1.0000 - val_loss: 0.0354 - val_accuracy: 0.9851\n",
      "Epoch 9/15\n",
      "185/185 [==============================] - 39s 209ms/step - loss: 1.1358e-05 - accuracy: 1.0000 - val_loss: 0.0337 - val_accuracy: 0.9851\n",
      "Epoch 10/15\n",
      "185/185 [==============================] - 37s 200ms/step - loss: 8.3383e-06 - accuracy: 1.0000 - val_loss: 0.0364 - val_accuracy: 0.9851\n",
      "Epoch 11/15\n",
      "185/185 [==============================] - 39s 208ms/step - loss: 6.3019e-06 - accuracy: 1.0000 - val_loss: 0.0356 - val_accuracy: 0.9851\n",
      "Epoch 12/15\n",
      "185/185 [==============================] - 39s 210ms/step - loss: 4.8963e-06 - accuracy: 1.0000 - val_loss: 0.0377 - val_accuracy: 0.9851\n",
      "Epoch 13/15\n",
      "185/185 [==============================] - 37s 201ms/step - loss: 3.8971e-06 - accuracy: 1.0000 - val_loss: 0.0359 - val_accuracy: 0.9851\n",
      "Epoch 14/15\n",
      "185/185 [==============================] - 40s 215ms/step - loss: 3.1544e-06 - accuracy: 1.0000 - val_loss: 0.0367 - val_accuracy: 0.9851\n",
      "Epoch 15/15\n",
      "185/185 [==============================] - 38s 203ms/step - loss: 2.5637e-06 - accuracy: 1.0000 - val_loss: 0.0350 - val_accuracy: 0.9851\n"
     ]
    }
   ],
   "source": [
    "history = model.fit(train_batch, validation_data=validation_batch, batch_size=32, epochs=15)"
   ]
  },
  {
   "cell_type": "code",
   "execution_count": 19,
   "id": "9cf51513-2289-438e-a96e-2a57a0ebcc10",
   "metadata": {},
   "outputs": [
    {
     "name": "stdout",
     "output_type": "stream",
     "text": [
      "19/19 [==============================] - 3s 128ms/step - loss: 0.0566 - accuracy: 0.9950\n"
     ]
    }
   ],
   "source": [
    "predicted = model.evaluate(test_batch)"
   ]
  },
  {
   "cell_type": "code",
   "execution_count": 20,
   "id": "695060ea-7f78-46ed-b51a-90e3c625857c",
   "metadata": {},
   "outputs": [
    {
     "data": {
      "text/plain": [
       "[0.056605007499456406, 0.9950166344642639]"
      ]
     },
     "execution_count": 20,
     "metadata": {},
     "output_type": "execute_result"
    }
   ],
   "source": [
    "predicted"
   ]
  },
  {
   "cell_type": "code",
   "execution_count": null,
   "id": "a958ad2d-8510-4d8e-90e5-8cc73f8ed343",
   "metadata": {},
   "outputs": [],
   "source": []
  }
 ],
 "metadata": {
  "kernelspec": {
   "display_name": "Python 3 (ipykernel)",
   "language": "python",
   "name": "python3"
  },
  "language_info": {
   "codemirror_mode": {
    "name": "ipython",
    "version": 3
   },
   "file_extension": ".py",
   "mimetype": "text/x-python",
   "name": "python",
   "nbconvert_exporter": "python",
   "pygments_lexer": "ipython3",
   "version": "3.9.7"
  }
 },
 "nbformat": 4,
 "nbformat_minor": 5
}
