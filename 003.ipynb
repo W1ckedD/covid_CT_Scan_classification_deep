{
 "cells": [
  {
   "cell_type": "code",
   "execution_count": 1,
   "id": "0ec90ae1-150d-466e-ab3a-84b8d9644953",
   "metadata": {},
   "outputs": [],
   "source": [
    "import os\n",
    "import numpy as np\n",
    "from tensorflow.keras.models import Sequential\n",
    "from tensorflow.keras.layers import Dense, Flatten, Conv2D, MaxPooling2D\n",
    "from tensorflow.keras.preprocessing.image import ImageDataGenerator\n",
    "from history_plot import plot_accuracy, plot_loss"
   ]
  },
  {
   "cell_type": "code",
   "execution_count": 2,
   "id": "a108351c-a514-44f1-8eb2-cd2fe9802352",
   "metadata": {},
   "outputs": [],
   "source": [
    "BASE_DIR = os.getcwd()\n",
    "LARGE_DATASET_DIR = os.path.join(BASE_DIR, 'large_dataset')\n",
    "TRAIN_DIR = os.path.join(LARGE_DATASET_DIR, 'train')\n",
    "TEST_DIR = os.path.join(LARGE_DATASET_DIR, 'test')"
   ]
  },
  {
   "cell_type": "code",
   "execution_count": 3,
   "id": "09cb7d69-1c62-4058-8a05-bc6766e83d19",
   "metadata": {},
   "outputs": [
    {
     "name": "stdout",
     "output_type": "stream",
     "text": [
      "Found 5922 images belonging to 2 classes.\n"
     ]
    }
   ],
   "source": [
    "train_batch = ImageDataGenerator(rescale=1/255, validation_split=0.2).flow_from_directory(\n",
    "    TRAIN_DIR, \n",
    "    color_mode='grayscale', \n",
    "    batch_size=32,\n",
    "    target_size=(256, 256),\n",
    "    subset='training'\n",
    ")"
   ]
  },
  {
   "cell_type": "code",
   "execution_count": 5,
   "id": "77c03e72-c5ab-4669-bee6-bae21f71bee9",
   "metadata": {},
   "outputs": [
    {
     "name": "stdout",
     "output_type": "stream",
     "text": [
      "Found 1480 images belonging to 2 classes.\n"
     ]
    }
   ],
   "source": [
    "validation_batch = ImageDataGenerator(rescale=1/255, validation_split=0.2).flow_from_directory(\n",
    "    TRAIN_DIR, \n",
    "    color_mode='grayscale', \n",
    "    batch_size=32,\n",
    "    target_size=(256, 256),\n",
    "    subset='validation'\n",
    ")"
   ]
  },
  {
   "cell_type": "code",
   "execution_count": 4,
   "id": "1c23ca08-9536-492e-a115-666ab02036c4",
   "metadata": {},
   "outputs": [
    {
     "name": "stdout",
     "output_type": "stream",
     "text": [
      "Found 602 images belonging to 2 classes.\n"
     ]
    }
   ],
   "source": [
    "test_batch = ImageDataGenerator(rescale=1/255).flow_from_directory(\n",
    "    TEST_DIR, \n",
    "    color_mode='grayscale', \n",
    "    batch_size=32,\n",
    "    target_size=(256, 256),\n",
    ")"
   ]
  },
  {
   "cell_type": "code",
   "execution_count": 20,
   "id": "21052488-74c0-4371-b556-54829cba431b",
   "metadata": {},
   "outputs": [],
   "source": [
    "model = Sequential()\n",
    "\n",
    "model.add(Conv2D(32, kernel_size=(3, 3), input_shape=(256, 256, 1), activation='relu'))\n",
    "model.add(MaxPooling2D(pool_size=(2, 2)))\n",
    "          \n",
    "model.add(Conv2D(64, kernel_size=(3, 3), activation='relu'))\n",
    "model.add(MaxPooling2D(pool_size=(2, 2)))\n",
    "\n",
    "model.add(Conv2D(64, kernel_size=(3, 3), activation='relu'))\n",
    "model.add(MaxPooling2D(pool_size=(2, 2)))\n",
    "\n",
    "model.add(Conv2D(128, kernel_size=(3, 3), activation='relu'))\n",
    "model.add(MaxPooling2D(pool_size=(2, 2)))\n",
    "\n",
    "model.add(Flatten())\n",
    "model.add(Dense(128, activation='relu'))\n",
    "model.add(Dense(2, activation='softmax'))"
   ]
  },
  {
   "cell_type": "code",
   "execution_count": 21,
   "id": "e1d03e82-3367-43da-9cce-82061f90ca4f",
   "metadata": {},
   "outputs": [
    {
     "name": "stdout",
     "output_type": "stream",
     "text": [
      "Model: \"sequential_4\"\n",
      "_________________________________________________________________\n",
      "Layer (type)                 Output Shape              Param #   \n",
      "=================================================================\n",
      "conv2d_16 (Conv2D)           (None, 254, 254, 32)      320       \n",
      "_________________________________________________________________\n",
      "max_pooling2d_16 (MaxPooling (None, 127, 127, 32)      0         \n",
      "_________________________________________________________________\n",
      "conv2d_17 (Conv2D)           (None, 125, 125, 64)      18496     \n",
      "_________________________________________________________________\n",
      "max_pooling2d_17 (MaxPooling (None, 62, 62, 64)        0         \n",
      "_________________________________________________________________\n",
      "conv2d_18 (Conv2D)           (None, 60, 60, 64)        36928     \n",
      "_________________________________________________________________\n",
      "max_pooling2d_18 (MaxPooling (None, 30, 30, 64)        0         \n",
      "_________________________________________________________________\n",
      "conv2d_19 (Conv2D)           (None, 28, 28, 128)       73856     \n",
      "_________________________________________________________________\n",
      "max_pooling2d_19 (MaxPooling (None, 14, 14, 128)       0         \n",
      "_________________________________________________________________\n",
      "flatten_4 (Flatten)          (None, 25088)             0         \n",
      "_________________________________________________________________\n",
      "dense_8 (Dense)              (None, 128)               3211392   \n",
      "_________________________________________________________________\n",
      "dense_9 (Dense)              (None, 2)                 258       \n",
      "=================================================================\n",
      "Total params: 3,341,250\n",
      "Trainable params: 3,341,250\n",
      "Non-trainable params: 0\n",
      "_________________________________________________________________\n"
     ]
    }
   ],
   "source": [
    "model.summary()"
   ]
  },
  {
   "cell_type": "code",
   "execution_count": 22,
   "id": "de290d1e-ae75-4281-bf4e-ae48bb1caaa7",
   "metadata": {},
   "outputs": [],
   "source": [
    "model.compile(loss='categorical_crossentropy', optimizer='adam', metrics=['accuracy'])"
   ]
  },
  {
   "cell_type": "code",
   "execution_count": 23,
   "id": "bbe6d6c5-6e50-4875-bfe8-b1a5c9a01363",
   "metadata": {},
   "outputs": [
    {
     "name": "stdout",
     "output_type": "stream",
     "text": [
      "Epoch 1/15\n",
      "186/186 [==============================] - 71s 376ms/step - loss: 0.2062 - accuracy: 0.9081 - val_loss: 0.0240 - val_accuracy: 0.9959\n",
      "Epoch 2/15\n",
      "186/186 [==============================] - 75s 404ms/step - loss: 0.0071 - accuracy: 0.9975 - val_loss: 0.0158 - val_accuracy: 0.9892\n",
      "Epoch 3/15\n",
      "186/186 [==============================] - 74s 399ms/step - loss: 2.6789e-04 - accuracy: 1.0000 - val_loss: 0.0023 - val_accuracy: 1.0000\n",
      "Epoch 4/15\n",
      "186/186 [==============================] - 75s 401ms/step - loss: 5.4404e-05 - accuracy: 1.0000 - val_loss: 0.0071 - val_accuracy: 0.9993\n",
      "Epoch 5/15\n",
      "186/186 [==============================] - 72s 384ms/step - loss: 1.9257e-05 - accuracy: 1.0000 - val_loss: 0.0026 - val_accuracy: 1.0000\n",
      "Epoch 6/15\n",
      "186/186 [==============================] - 76s 410ms/step - loss: 1.1366e-05 - accuracy: 1.0000 - val_loss: 0.0021 - val_accuracy: 0.9993\n",
      "Epoch 7/15\n",
      "186/186 [==============================] - 77s 414ms/step - loss: 8.1769e-06 - accuracy: 1.0000 - val_loss: 0.0018 - val_accuracy: 1.0000\n",
      "Epoch 8/15\n",
      "186/186 [==============================] - 75s 405ms/step - loss: 6.1767e-06 - accuracy: 1.0000 - val_loss: 0.0018 - val_accuracy: 1.0000\n",
      "Epoch 9/15\n",
      "186/186 [==============================] - 76s 406ms/step - loss: 4.9805e-06 - accuracy: 1.0000 - val_loss: 0.0014 - val_accuracy: 1.0000\n",
      "Epoch 10/15\n",
      "186/186 [==============================] - 74s 399ms/step - loss: 3.8311e-06 - accuracy: 1.0000 - val_loss: 0.0013 - val_accuracy: 1.0000\n",
      "Epoch 11/15\n",
      "186/186 [==============================] - 75s 401ms/step - loss: 2.9243e-06 - accuracy: 1.0000 - val_loss: 0.0012 - val_accuracy: 1.0000\n",
      "Epoch 12/15\n",
      "186/186 [==============================] - 75s 400ms/step - loss: 2.4040e-06 - accuracy: 1.0000 - val_loss: 0.0012 - val_accuracy: 1.0000\n",
      "Epoch 13/15\n",
      "186/186 [==============================] - 72s 386ms/step - loss: 1.9721e-06 - accuracy: 1.0000 - val_loss: 0.0011 - val_accuracy: 0.9993\n",
      "Epoch 14/15\n",
      "186/186 [==============================] - 73s 394ms/step - loss: 1.5127e-06 - accuracy: 1.0000 - val_loss: 9.7498e-04 - val_accuracy: 1.0000\n",
      "Epoch 15/15\n",
      "186/186 [==============================] - 74s 395ms/step - loss: 1.2144e-06 - accuracy: 1.0000 - val_loss: 0.0010 - val_accuracy: 1.0000\n"
     ]
    }
   ],
   "source": [
    "history = model.fit(train_batch, validation_data=validation_batch, batch_size=32, epochs=15)"
   ]
  },
  {
   "cell_type": "code",
   "execution_count": 24,
   "id": "daf18814-c9ba-4a24-a2c1-6bf4e9162340",
   "metadata": {},
   "outputs": [
    {
     "data": {
      "image/png": "[encoded data removed]",
      "text/plain": [
       "<Figure size 432x288 with 1 Axes>"
      ]
     },
     "metadata": {
      "needs_background": "light"
     },
     "output_type": "display_data"
    }
   ],
   "source": [
    "plot_accuracy(history)"
   ]
  },
  {
   "cell_type": "code",
   "execution_count": 25,
   "id": "2fc83228-d178-42d8-a1f8-662a67ab2386",
   "metadata": {},
   "outputs": [
    {
     "data": {
      "image/png": "[encoded data removed]",
      "text/plain": [
       "<Figure size 432x288 with 1 Axes>"
      ]
     },
     "metadata": {
      "needs_background": "light"
     },
     "output_type": "display_data"
    }
   ],
   "source": [
    "plot_loss(history)"
   ]
  },
  {
   "cell_type": "code",
   "execution_count": 26,
   "id": "926c2348-1e77-4991-a04b-4191fbb64e23",
   "metadata": {},
   "outputs": [
    {
     "name": "stdout",
     "output_type": "stream",
     "text": [
      "19/19 [==============================] - 3s 122ms/step - loss: 0.0206 - accuracy: 0.9917\n"
     ]
    }
   ],
   "source": [
    "predicted = model.evaluate(test_batch)"
   ]
  },
  {
   "cell_type": "code",
   "execution_count": 27,
   "id": "3df69ebf-b4bb-4ba3-a7d1-493468f07e4e",
   "metadata": {},
   "outputs": [
    {
     "data": {
      "text/plain": [
       "[0.020575804635882378, 0.9916943311691284]"
      ]
     },
     "execution_count": 27,
     "metadata": {},
     "output_type": "execute_result"
    }
   ],
   "source": [
    "predicted"
   ]
  },
  {
   "cell_type": "code",
   "execution_count": 28,
   "id": "652eac2f-b6b8-4447-a0b3-ea9353bea491",
   "metadata": {},
   "outputs": [],
   "source": [
    "model.save('003.h5')"
   ]
  },
  {
   "cell_type": "code",
   "execution_count": null,
   "id": "5f0355b4-5a87-4646-b357-3df6d4eba016",
   "metadata": {},
   "outputs": [],
   "source": []
  }
 ],
 "metadata": {
  "kernelspec": {
   "display_name": "Python 3 (ipykernel)",
   "language": "python",
   "name": "python3"
  },
  "language_info": {
   "codemirror_mode": {
    "name": "ipython",
    "version": 3
   },
   "file_extension": ".py",
   "mimetype": "text/x-python",
   "name": "python",
   "nbconvert_exporter": "python",
   "pygments_lexer": "ipython3",
   "version": "3.9.7"
  }
 },
 "nbformat": 4,
 "nbformat_minor": 5
}
