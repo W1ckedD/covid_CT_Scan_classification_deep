{
 "cells": [
  {
   "cell_type": "code",
   "execution_count": 27,
   "id": "8489a801-96ea-4491-b89b-4c5d4a7018c2",
   "metadata": {},
   "outputs": [],
   "source": [
    "import os\n",
    "import numpy as np\n",
    "from tensorflow.keras.models import Sequential\n",
    "from tensorflow.keras.layers import Dense, Flatten, Conv2D, MaxPooling2D\n",
    "from tensorflow.keras.preprocessing.image import ImageDataGenerator\n",
    "import matplotlib.pyplot as plt"
   ]
  },
  {
   "cell_type": "code",
   "execution_count": 2,
   "id": "bee229e4-2d8b-456f-9455-2075771bfab3",
   "metadata": {},
   "outputs": [],
   "source": [
    "BASE_DIR = os.getcwd()\n",
    "LARGE_DATASET_DIR = os.path.join(BASE_DIR, 'large_dataset')\n",
    "TRAIN_DIR = os.path.join(LARGE_DATASET_DIR, 'train')\n",
    "TEST_DIR = os.path.join(LARGE_DATASET_DIR, 'test')"
   ]
  },
  {
   "cell_type": "code",
   "execution_count": 3,
   "id": "379a6957-d7fd-4b03-a817-4705ee667442",
   "metadata": {},
   "outputs": [
    {
     "name": "stdout",
     "output_type": "stream",
     "text": [
      "Found 5922 images belonging to 2 classes.\n"
     ]
    }
   ],
   "source": [
    "train_batch = ImageDataGenerator(rescale=1/255, validation_split=0.2).flow_from_directory(\n",
    "    TRAIN_DIR, \n",
    "    color_mode='grayscale', \n",
    "    batch_size=32,\n",
    "    target_size=(256, 256),\n",
    "    subset='training'\n",
    ")"
   ]
  },
  {
   "cell_type": "code",
   "execution_count": 4,
   "id": "88c92af9-2f04-44d0-87e0-76320c8eb8f4",
   "metadata": {},
   "outputs": [
    {
     "name": "stdout",
     "output_type": "stream",
     "text": [
      "Found 1480 images belonging to 2 classes.\n"
     ]
    }
   ],
   "source": [
    "validation_batch = ImageDataGenerator(rescale=1/255, validation_split=0.2).flow_from_directory(\n",
    "    TRAIN_DIR, \n",
    "    color_mode='grayscale', \n",
    "    batch_size=32,\n",
    "    target_size=(256, 256),\n",
    "    subset='validation'\n",
    ")"
   ]
  },
  {
   "cell_type": "code",
   "execution_count": 5,
   "id": "1037d19a-9426-4203-80e0-8066c243cefa",
   "metadata": {},
   "outputs": [
    {
     "name": "stdout",
     "output_type": "stream",
     "text": [
      "Found 602 images belonging to 2 classes.\n"
     ]
    }
   ],
   "source": [
    "test_batch = ImageDataGenerator(rescale=1/255).flow_from_directory(\n",
    "    TEST_DIR, \n",
    "    color_mode='grayscale', \n",
    "    batch_size=32,\n",
    "    target_size=(256, 256),\n",
    ")"
   ]
  },
  {
   "cell_type": "code",
   "execution_count": 6,
   "id": "014207f8-81a1-4691-911c-04cda318a7e2",
   "metadata": {},
   "outputs": [],
   "source": [
    "model = Sequential()\n",
    "\n",
    "model.add(Conv2D(32, kernel_size=(3, 3), input_shape=(256, 256, 1), activation='relu'))\n",
    "model.add(MaxPooling2D(pool_size=(2, 2)))\n",
    "          \n",
    "model.add(Conv2D(64, kernel_size=(3, 3), activation='relu'))\n",
    "model.add(MaxPooling2D(pool_size=(2, 2)))\n",
    "\n",
    "model.add(Conv2D(64, kernel_size=(3, 3), activation='relu'))\n",
    "model.add(MaxPooling2D(pool_size=(2, 2)))\n",
    "\n",
    "\n",
    "model.add(Flatten())\n",
    "model.add(Dense(64, activation='relu'))\n",
    "model.add(Dense(2, activation='softmax'))"
   ]
  },
  {
   "cell_type": "code",
   "execution_count": 7,
   "id": "928d084f-6364-422f-ab49-90c16e32c997",
   "metadata": {},
   "outputs": [
    {
     "name": "stdout",
     "output_type": "stream",
     "text": [
      "Model: \"sequential\"\n",
      "_________________________________________________________________\n",
      "Layer (type)                 Output Shape              Param #   \n",
      "=================================================================\n",
      "conv2d (Conv2D)              (None, 254, 254, 32)      320       \n",
      "_________________________________________________________________\n",
      "max_pooling2d (MaxPooling2D) (None, 127, 127, 32)      0         \n",
      "_________________________________________________________________\n",
      "conv2d_1 (Conv2D)            (None, 125, 125, 64)      18496     \n",
      "_________________________________________________________________\n",
      "max_pooling2d_1 (MaxPooling2 (None, 62, 62, 64)        0         \n",
      "_________________________________________________________________\n",
      "conv2d_2 (Conv2D)            (None, 60, 60, 64)        36928     \n",
      "_________________________________________________________________\n",
      "max_pooling2d_2 (MaxPooling2 (None, 30, 30, 64)        0         \n",
      "_________________________________________________________________\n",
      "flatten (Flatten)            (None, 57600)             0         \n",
      "_________________________________________________________________\n",
      "dense (Dense)                (None, 64)                3686464   \n",
      "_________________________________________________________________\n",
      "dense_1 (Dense)              (None, 2)                 130       \n",
      "=================================================================\n",
      "Total params: 3,742,338\n",
      "Trainable params: 3,742,338\n",
      "Non-trainable params: 0\n",
      "_________________________________________________________________\n"
     ]
    }
   ],
   "source": [
    "model.summary()"
   ]
  },
  {
   "cell_type": "code",
   "execution_count": 8,
   "id": "c9d5ffec-3214-4963-a053-f43e84badde1",
   "metadata": {},
   "outputs": [],
   "source": [
    "model.compile(loss='categorical_crossentropy', optimizer='adam', metrics=['accuracy'])"
   ]
  },
  {
   "cell_type": "code",
   "execution_count": 9,
   "id": "ced50b1c-ae00-4e6a-8922-99cb00df3259",
   "metadata": {},
   "outputs": [
    {
     "name": "stdout",
     "output_type": "stream",
     "text": [
      "Epoch 1/15\n",
      "186/186 [==============================] - 74s 329ms/step - loss: 0.1130 - accuracy: 0.9488 - val_loss: 0.0066 - val_accuracy: 1.0000\n",
      "Epoch 2/15\n",
      "186/186 [==============================] - 59s 317ms/step - loss: 8.9705e-04 - accuracy: 0.9998 - val_loss: 0.0131 - val_accuracy: 0.9892\n",
      "Epoch 3/15\n",
      "186/186 [==============================] - 59s 318ms/step - loss: 6.2604e-05 - accuracy: 1.0000 - val_loss: 0.0074 - val_accuracy: 0.9993\n",
      "Epoch 4/15\n",
      "186/186 [==============================] - 60s 321ms/step - loss: 1.9014e-05 - accuracy: 1.0000 - val_loss: 0.0027 - val_accuracy: 1.0000\n",
      "Epoch 5/15\n",
      "186/186 [==============================] - 60s 323ms/step - loss: 1.1185e-05 - accuracy: 1.0000 - val_loss: 0.0020 - val_accuracy: 1.0000\n",
      "Epoch 6/15\n",
      "186/186 [==============================] - 60s 322ms/step - loss: 7.7983e-06 - accuracy: 1.0000 - val_loss: 0.0019 - val_accuracy: 1.0000\n",
      "Epoch 7/15\n",
      "186/186 [==============================] - 60s 321ms/step - loss: 5.8007e-06 - accuracy: 1.0000 - val_loss: 0.0025 - val_accuracy: 1.0000\n",
      "Epoch 8/15\n",
      "186/186 [==============================] - 60s 323ms/step - loss: 4.5088e-06 - accuracy: 1.0000 - val_loss: 0.0019 - val_accuracy: 1.0000\n",
      "Epoch 9/15\n",
      "186/186 [==============================] - 60s 323ms/step - loss: 3.6158e-06 - accuracy: 1.0000 - val_loss: 0.0016 - val_accuracy: 1.0000\n",
      "Epoch 10/15\n",
      "186/186 [==============================] - 60s 323ms/step - loss: 2.9548e-06 - accuracy: 1.0000 - val_loss: 0.0015 - val_accuracy: 1.0000\n",
      "Epoch 11/15\n",
      "186/186 [==============================] - 60s 324ms/step - loss: 2.4502e-06 - accuracy: 1.0000 - val_loss: 0.0014 - val_accuracy: 1.0000\n",
      "Epoch 12/15\n",
      "186/186 [==============================] - 60s 323ms/step - loss: 2.0560e-06 - accuracy: 1.0000 - val_loss: 0.0013 - val_accuracy: 1.0000\n",
      "Epoch 13/15\n",
      "186/186 [==============================] - 60s 321ms/step - loss: 1.7579e-06 - accuracy: 1.0000 - val_loss: 0.0012 - val_accuracy: 1.0000\n",
      "Epoch 14/15\n",
      "186/186 [==============================] - 60s 324ms/step - loss: 1.4772e-06 - accuracy: 1.0000 - val_loss: 9.4711e-04 - val_accuracy: 1.0000\n",
      "Epoch 15/15\n",
      "186/186 [==============================] - 62s 332ms/step - loss: 1.2708e-06 - accuracy: 1.0000 - val_loss: 8.9462e-04 - val_accuracy: 1.0000\n"
     ]
    }
   ],
   "source": [
    "history = model.fit(train_batch, validation_data=validation_batch, batch_size=32, epochs=15)"
   ]
  },
  {
   "cell_type": "code",
   "execution_count": 23,
   "id": "a0342dbe-f916-4601-a6a8-ef0f29676aa1",
   "metadata": {},
   "outputs": [
    {
     "data": {
      "image/png": "[encoded data removed]",
      "text/plain": [
       "<Figure size 432x288 with 1 Axes>"
      ]
     },
     "metadata": {
      "needs_background": "light"
     },
     "output_type": "display_data"
    }
   ],
   "source": [
    "loss_train = history.history['loss']\n",
    "loss_val = history.history['val_loss']\n",
    "epochs = range(1,15)\n",
    "plt.plot(loss_train, 'r', label='Training loss')\n",
    "plt.plot(loss_val, 'b', label='validation loss')\n",
    "plt.title('Training and Validation loss')\n",
    "plt.xlabel('Epochs')\n",
    "plt.ylabel('Loss')\n",
    "plt.legend()\n",
    "plt.show()"
   ]
  },
  {
   "cell_type": "code",
   "execution_count": 24,
   "id": "3fb6e124-c5bd-4e69-b631-69d6fda5365e",
   "metadata": {},
   "outputs": [
    {
     "data": {
      "image/png": "[encoded data removed]",
      "text/plain": [
       "<Figure size 432x288 with 1 Axes>"
      ]
     },
     "metadata": {
      "needs_background": "light"
     },
     "output_type": "display_data"
    }
   ],
   "source": [
    "acc_train = history.history['accuracy']\n",
    "acc_val = history.history['val_accuracy']\n",
    "plt.plot(acc_train, 'r', label='Training Accuracy')\n",
    "plt.plot(acc_val, 'b', label='validation Accuracy')\n",
    "plt.title('Training and Validation Accuracy')\n",
    "plt.xlabel('Epochs')\n",
    "plt.ylabel('Accuracy')\n",
    "plt.legend()\n",
    "plt.show()"
   ]
  },
  {
   "cell_type": "code",
   "execution_count": 25,
   "id": "d06e63a1-3360-42ae-b05a-00e696f0b1b8",
   "metadata": {},
   "outputs": [
    {
     "name": "stdout",
     "output_type": "stream",
     "text": [
      "19/19 [==============================] - 3s 175ms/step - loss: 0.0636 - accuracy: 0.9784\n"
     ]
    }
   ],
   "source": [
    "predicted = model.evaluate(test_batch)"
   ]
  },
  {
   "cell_type": "code",
   "execution_count": 26,
   "id": "6d598184-5468-4fcb-8cc9-dc9b854ddb75",
   "metadata": {},
   "outputs": [
    {
     "data": {
      "text/plain": [
       "[0.06357932090759277, 0.9784052968025208]"
      ]
     },
     "execution_count": 26,
     "metadata": {},
     "output_type": "execute_result"
    }
   ],
   "source": [
    "predicted"
   ]
  },
  {
   "cell_type": "code",
   "execution_count": null,
   "id": "54bd1e37-14bf-4d19-b0f2-bee8a0aecaa1",
   "metadata": {},
   "outputs": [],
   "source": []
  }
 ],
 "metadata": {
  "kernelspec": {
   "display_name": "Python 3 (ipykernel)",
   "language": "python",
   "name": "python3"
  },
  "language_info": {
   "codemirror_mode": {
    "name": "ipython",
    "version": 3
   },
   "file_extension": ".py",
   "mimetype": "text/x-python",
   "name": "python",
   "nbconvert_exporter": "python",
   "pygments_lexer": "ipython3",
   "version": "3.9.7"
  }
 },
 "nbformat": 4,
 "nbformat_minor": 5
}
